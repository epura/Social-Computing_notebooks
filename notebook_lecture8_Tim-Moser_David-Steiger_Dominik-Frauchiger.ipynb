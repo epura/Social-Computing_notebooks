{
 "cells": [
  {
   "cell_type": "markdown",
   "metadata": {},
   "source": [
    "# Lecture 8"
   ]
  },
  {
   "cell_type": "markdown",
   "metadata": {},
   "source": [
    "Please inlcude your names below\n",
    "Also, please edit the name of the file and include the names of the two(or three) people answering\n",
    "\n",
    "Pair answering the assignment: Tim Moser, David Steiger, Dominik Frauchiger  \n",
    "Pair giving feedback: Eleonora Pura, Christian Skorski"
   ]
  },
  {
   "cell_type": "markdown",
   "metadata": {},
   "source": [
    "## Selenium Download\n",
    "For the next exercises you will have to download selenium. \n",
    "\n",
    "You can read more about the webdriver here (https://chromedriver.chromium.org), but if you want to go straight to the download, go to https://chromedriver.storage.googleapis.com/index.html?path=80.0.3987.106/ and download your version. \n",
    "\n",
    "Moreover, in your terminal type `pip install selenium`. \n",
    "\n",
    "Once this is done, you should be able to run:\n",
    "- `from selenium import webdriver`\n",
    "- `browser = webdriver.Chrome([the path where you put the googlechromedriver])`\n",
    "\n",
    "In case of any issues, the https://chromedriver.chromium.org website has some straightforward info on common bugs. \n"
   ]
  },
  {
   "cell_type": "code",
   "execution_count": 2,
   "metadata": {},
   "outputs": [],
   "source": [
    "from selenium import webdriver\n",
    "browser = webdriver.Chrome(\"chromedriver.exe\")\n",
    "browser.quit()"
   ]
  },
  {
   "cell_type": "markdown",
   "metadata": {},
   "source": [
    "### 1. Rate limiting\n",
    "\n",
    "1. By now, you are familiar with 3 APIs, namely Google Books, NYT, and Dribble. For each one, find and copy the rules about rate limits. Next, pick one and try to exceed the rate limit; explain what you do and what reaction you get from the API."
   ]
  },
  {
   "cell_type": "markdown",
   "metadata": {},
   "source": [
    "Google Books: 100'000 per day. [Source](https://stackoverflow.com/questions/35302157/google-books-api-rate-limiting-information/35302667).\n",
    "    \n",
    "NYT: 10 per minute and 4'000 per day [Source](https://developer.nytimes.com/faq).\n",
    "\n",
    "Dribbble: 60 per min and 10'000 per day. [Source](https://speca.io/speca/dribbble-api)."
   ]
  },
  {
   "cell_type": "markdown",
   "metadata": {},
   "source": [
    "2. In the next problem you will check how many requests you can send to Google Search before getting blocked. Websites protect themselves from automated crawling by checking requests that come from the same computer in a small time frame and after a while, they won't respond to the request. A valid response would be \"Response 200\", which you can see if you just print the response of `requests.get('https://www.google.com/search?q=zurich')`. \n",
    "\n",
    "The question is\n",
    "a) how many requests does it take to get blocked (when you first get a response other than 200)?\n",
    "b) What is the number of a blocked response and what does it exactly stand for (Google response XXX). If you still can:) "
   ]
  },
  {
   "cell_type": "code",
   "execution_count": 10,
   "metadata": {},
   "outputs": [
    {
     "output_type": "stream",
     "name": "stdout",
     "text": "Requests:  697\nAfter\n 429\n"
    }
   ],
   "source": [
    "import requests\n",
    "from IPython.display import clear_output\n",
    "res = requests.get('https://www.google.com/search?q=zurich')\n",
    "\n",
    "print(\"Before\\n\", res.status_code)\n",
    "\n",
    "count = 1\n",
    "while res.status_code == 200:\n",
    "    count += 1\n",
    "    res = requests.get('https://www.google.com/search?q=zurich')\n",
    "    print (\"Try \", count, \"Res: \", res.status_code)\n",
    "    clear_output(wait=True)\n",
    "\n",
    "print(\"Requests: \", count)\n",
    "print(\"After\\n\", res.status_code)"
   ]
  },
  {
   "cell_type": "markdown",
   "metadata": {},
   "source": [
    "**Answer:** After ~697 tries we got the status code 429 'Too Many Requests'."
   ]
  },
  {
   "cell_type": "markdown",
   "metadata": {},
   "source": [
    "### 2. Selenium sessions"
   ]
  },
  {
   "cell_type": "markdown",
   "metadata": {},
   "source": [
    "Go to a website of your choice where you have an account. It can for example be the New York Times APi website where you created a login last time but also tutti.ch, comparis, whatever simple website you often use.\n",
    "\n",
    "Using Selenium create a session where you \n",
    "1. go to the main website \n",
    "2. log in \n",
    "3. click on an element of your choice \n",
    "4. scroll to the bottom of the page\n",
    "5. then save the page. \n",
    "\n",
    "When logging in, you will have to find the name of the login form and submit your credentials to it and then click the login button. Here you find an example for a login using selenium but in case you decide to use this help, Facebook should not be your chosen website. https://crossbrowsertesting.com/blog/test-automation/automate-login-with-selenium/"
   ]
  },
  {
   "cell_type": "code",
   "execution_count": 4,
   "metadata": {},
   "outputs": [],
   "source": [
    "import time\n",
    "\n",
    "browser = webdriver.Chrome(\"chromedriver.exe\")\n",
    "\n",
    "# you have to first \"register\" an account here (will be deleted automatically after some time).\n",
    "# use as username dodo and as password pass.\n",
    "\n",
    "browser.get(\"https://sopra-fs20-dfrauc-client.herokuapp.com\")\n",
    "\n",
    "username = browser.find_element_by_xpath(\"/html/body/div/div/div[2]/div/div/div/input[1]\")\n",
    "username.send_keys(\"dodo\")\n",
    "\n",
    "password = browser.find_element_by_xpath(\"/html/body/div/div/div[2]/div/div/div/input[2]\")\n",
    "password.send_keys(\"pass\")\n",
    "\n",
    "login_btn = browser.find_element_by_xpath(\"/html/body/div/div/div[2]/div/div/div/div/button\")\n",
    "login_btn.click()\n",
    "\n",
    "# no scroll since page not long enough\n",
    "\n",
    "time.sleep(1)\n",
    "\n",
    "first_user = browser.find_element_by_xpath(\"/html/body/div/div/div[2]/div/div/div/ul/li[1]/a\")\n",
    "first_user.click()\n",
    "\n",
    "with open('thePage.html', 'w') as f:\n",
    "    f.write(browser.page_source)\n",
    "\n",
    "browser.quit()"
   ]
  },
  {
   "cell_type": "markdown",
   "metadata": {},
   "source": [
    "### 3. Measuring personalization"
   ]
  },
  {
   "cell_type": "markdown",
   "metadata": {},
   "source": [
    "In this exercise you will have to imitate the study described in class on a website of your interest. You will have to measure differences in the content that you receive back from the website under varying treatments. \n",
    "\n",
    "You will have to choose a website and a treatment. Use selenium for this exercise as well. \n",
    "- As for websites, you can pick an online store, or traveling site, some news site, Google News.. basically try to pick something that you suspect gives different results for different searchers. \n",
    "- Examples for treatments would be location, being logged in with an account, history with the website, being on a phone vs a desktop, etc. \n",
    "- You can try to pick multiple searches to make sure you are measuring real phenomenon, not only noise\n",
    "- You can include a control treatment in case you suspect there's A/B testing or noise in how the pages look\n",
    "- Finally you have to pick a measure for the differences on the page. In case you receive items on a page, for example URLs or products, you can define an overlap metric. In case the page is more unstructured, come up with an explanation for how you define differences.\n",
    "\n",
    "As your answer, explain which of the above you chose, how you implemented the experiment, and what difference you found in the pages you collected. \n",
    "\n",
    "You can find more infor on how to run multiple browsers at the same time here: https://crossbrowsertesting.com/blog/selenium/run-test-multiple-browsers-parallel-selenium/"
   ]
  },
  {
   "cell_type": "code",
   "execution_count": 30,
   "metadata": {},
   "outputs": [
    {
     "output_type": "stream",
     "name": "stdout",
     "text": "Schweizer Seite:  Nike T Shirt Mens Gym Sports Tee Top Size S Med Large XL XXL Black Navy Red Blue\nUS Seite:  The ClassiX Slimming Body Toning Shirt Original Quality Men Slimming Body Shaper\nAre the same?  False\n"
    }
   ],
   "source": [
    "# We chose ebay\n",
    "# We suspect that the page shows different products depending on localation\n",
    "\n",
    "site = \"https://www.ebay.com/sch/i.html?_nkw=shirt\"\n",
    "\n",
    "# Soundcloud Switzerland\n",
    "\n",
    "ch_browser = webdriver.Chrome(\"chromedriver.exe\")\n",
    "\n",
    "ch_browser.get(site)\n",
    "time.sleep(1)\n",
    "ch_title = ch_browser.find_element_by_xpath(\"/html/body/div[5]/div[5]/div[2]/div[1]/div[2]/ul/li[1]/div/div[2]/a/h3\")\n",
    "\n",
    "print(\"Schweizer Seite: \", ch_title.text)\n",
    "\n",
    "# Soundcloud USA\n",
    "\n",
    "proxy = \"64.225.24.13:3128\"\n",
    "desired_capabilities = webdriver.DesiredCapabilities.CHROME.copy()\n",
    "desired_capabilities['proxy'] = {\n",
    "    \"httpProxy\": proxy,\n",
    "    \"ftpProxy\": proxy,\n",
    "    \"sslProxy\": proxy,\n",
    "    \"noProxy\": None,\n",
    "    \"proxyType\": \"MANUAL\",\n",
    "    \"class\": \"org.openqa.selenium.Proxy\",\n",
    "    \"autodetect\": False\n",
    "}\n",
    "\n",
    "us_browser = webdriver.Chrome(\"chromedriver.exe\", desired_capabilities=desired_capabilities)\n",
    "\n",
    "us_browser.get(site)\n",
    "time.sleep(1)\n",
    "us_title = us_browser.find_element_by_xpath(\"/html/body/div[4]/div[4]/div[2]/div[1]/div[2]/ul/li[1]/div/div[2]/a/h3\")\n",
    "\n",
    "print(\"US Seite: \", us_title.text)\n",
    "\n",
    "print(\"Are the same? \", ch_title.text == us_title.text)\n",
    "\n",
    "ch_browser.quit()\n",
    "us_browser.quit()"
   ]
  },
  {
   "cell_type": "markdown",
   "metadata": {},
   "source": [
    "Congratulations for completing the third notebook! Now it’s time for feedback.\n",
    "1.\tPass your solution to the other pair in your group.\n",
    "2.\tInclude your feedback in the other pair’s notebook. Don’t forget to add your names at the top.\n",
    "3.\tReturn the notebook with feedback to the original pairs.\n",
    "4.\tUpload your notebook, with the feedback included by the other pair on OLAT.\n",
    "\n",
    "You can think of/suggest (among other things)\n",
    " - improvements in the code (e.g. readability, efficiency)\n",
    " - improvements in the answers (e.g. are they easy to understand, are they correct, how can they be improved?)\n",
    " - point out differences (e.g. are there any differences between the responses of the two pairs? if yes what are they, what is the cause, and in which way can they be useful?)\n",
    " \n",
    "Not all suggestions about the type of feedback apply to all types of questions. Try to give feedback in a meaningful and constructive way. "
   ]
  },
  {
   "cell_type": "markdown",
   "metadata": {},
   "source": [
    "Below there is space for giving feedback. This space should be used only by the other pair in your group."
   ]
  },
  {
   "cell_type": "markdown",
   "metadata": {},
   "source": [
    "Feedback here"
   ]
  }
 ],
 "metadata": {
  "kernelspec": {
   "display_name": "Python 3.8.2 64-bit",
   "language": "python",
   "name": "python38264bite6e8b1c2d40c479f976e4827c39a3c67"
  },
  "language_info": {
   "codemirror_mode": {
    "name": "ipython",
    "version": 3
   },
   "file_extension": ".py",
   "mimetype": "text/x-python",
   "name": "python",
   "nbconvert_exporter": "python",
   "pygments_lexer": "ipython3",
   "version": "3.8.2-final"
  }
 },
 "nbformat": 4,
 "nbformat_minor": 4
}