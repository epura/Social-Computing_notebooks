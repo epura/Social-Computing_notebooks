{
 "cells": [
  {
   "cell_type": "markdown",
   "metadata": {},
   "source": [
    "# Lecture 9"
   ]
  },
  {
   "cell_type": "code",
   "execution_count": null,
   "metadata": {},
   "outputs": [],
   "source": [
    "# Please inlcude your names below\n",
    "# Also, please edit the name of the file and include the names of the two(or three) people answering\n",
    "\n",
    "# Pair answering the assignment: ..., ...\n",
    "# Pair giving feedback: ..., ..."
   ]
  },
  {
   "cell_type": "markdown",
   "metadata": {},
   "source": [
    "## Email Classification\n",
    "For this week’s exercise you are provided with a dataset of hashed email addresses. This dataset can be found in hashedEmailAddressesGitHubCommits.csv, at https://www.dropbox.com/s/kevcp917ok9qyn0/hashedEmailAddressesGitHubCommits.csv.zip?dl=0. Please make sure you can access this file."
   ]
  },
  {
   "cell_type": "markdown",
   "metadata": {},
   "source": [
    "### 1. Identifying the country of residence\n",
    "\n",
    "Based on the email address, we can infer different properties about the user. One example is their country of residence. For example, an email like “1315ae6229444367968a943a219f38def9a8112d@vpn-251-169.epfl.ch” will probably correspond to a user located in Switzerland, while an email of the form “59bd0a3ff43b32849b319e645d4798d8a5d1e889@philipphauer.de” will probably correspond to a user located in Germany. \n",
    "\n",
    "1. Write a script that classifies the email addresses based on the country of residence."
   ]
  },
  {
   "cell_type": "code",
   "execution_count": null,
   "metadata": {},
   "outputs": [],
   "source": []
  },
  {
   "cell_type": "markdown",
   "metadata": {},
   "source": [
    "2. Select 100 email addresses from the list. Each member of the team should manually evaluate them (separately)."
   ]
  },
  {
   "cell_type": "code",
   "execution_count": null,
   "metadata": {},
   "outputs": [],
   "source": [
    "# Please put the name of the first pair-member doing the evaluation below\n",
    "# NAME:\n",
    "\n",
    "# Your evaluation for the 100 emails goes below"
   ]
  },
  {
   "cell_type": "code",
   "execution_count": null,
   "metadata": {},
   "outputs": [],
   "source": [
    "# Please put the name of the second pair-member doing the evaluation below\n",
    "# NAME:\n",
    "\n",
    "# Your evaluation for the 100 emails goes below"
   ]
  },
  {
   "cell_type": "markdown",
   "metadata": {},
   "source": [
    "3. Next, compare your results. Did you agree on all the 100 entries? Were you able to label all email addresses?"
   ]
  },
  {
   "cell_type": "code",
   "execution_count": null,
   "metadata": {},
   "outputs": [],
   "source": [
    "# Please write below your main conclusions\n"
   ]
  },
  {
   "cell_type": "markdown",
   "metadata": {},
   "source": [
    "4. Now, evaluate the coverage and the accuracy of your algorithm by comparing your labels with the algorithm's result. \n",
    " -  Based on the random sample, what % of the data can your algorithm classify? Can you add something to your code to increase it? If, yes, include below your updated code. How much did coverage increase?\n",
    " - Based on the classified items on your list, what % did your algorithm classify correctly?\n"
   ]
  },
  {
   "cell_type": "code",
   "execution_count": null,
   "metadata": {},
   "outputs": [],
   "source": [
    "# Your improved code goes below"
   ]
  },
  {
   "cell_type": "code",
   "execution_count": null,
   "metadata": {},
   "outputs": [],
   "source": [
    "# Your analysis of coverage increase goes below"
   ]
  },
  {
   "cell_type": "markdown",
   "metadata": {},
   "source": [
    "The country of residence is not the only characteristic of the user that can be inferred from their email address.\n",
    "5. Make a short list of other characteristics that you could infer from the data."
   ]
  },
  {
   "cell_type": "code",
   "execution_count": null,
   "metadata": {},
   "outputs": [],
   "source": [
    "# Please list the other criteria below"
   ]
  },
  {
   "cell_type": "markdown",
   "metadata": {},
   "source": [
    "The last part of the exercise is optional. You can do it if you want to and have time, but it will not count towards the grade.\n",
    "6. Repeat the classification in the previous part of the exercise for one alternative characteristic. For example, you could classify based on business vs educational vs private accounts, but feel free to use your own criteria."
   ]
  },
  {
   "cell_type": "code",
   "execution_count": null,
   "metadata": {},
   "outputs": [],
   "source": [
    "# If you choose to do the last exercise, please include your code below"
   ]
  },
  {
   "cell_type": "markdown",
   "metadata": {},
   "source": [
    "Congratulations for completing the fourth (and last) notebook! Now it’s time for feedback.\n",
    "1.\tPass your solution to the other pair in your group.\n",
    "2.\tInclude your feedback in the other pair’s notebook. Don’t forget to add your names at the top.\n",
    "3.\tReturn the notebook with feedback to the original pairs.\n",
    "4.\tUpload your notebook, with the feedback included by the other pair on OLAT.\n",
    "\n",
    "You can think of/suggest (among other things)\n",
    " - improvements in the code (e.g. readability, efficiency)\n",
    " - improvements in the answers (e.g. are they easy to understand, are they correct, how can they be improved?)\n",
    " - point out differences (e.g. are there any differences between the responses of the two pairs? if yes what are they, what is the cause, and in which way can they be useful?)\n",
    " \n",
    "Not all suggestions about the type of feedback apply to all types of questions. Try to give feedback in a meaningful and constructive way. "
   ]
  },
  {
   "cell_type": "code",
   "execution_count": null,
   "metadata": {},
   "outputs": [],
   "source": [
    "# Below there is space for giving feedback. This space should be used only by the other pair in your group.\n",
    "\n",
    "'''\n",
    "Feedback here\n",
    "'''"
   ]
  }
 ],
 "metadata": {
  "kernelspec": {
   "display_name": "Python 3",
   "language": "python",
   "name": "python3"
  },
  "language_info": {
   "codemirror_mode": {
    "name": "ipython",
    "version": 3
   },
   "file_extension": ".py",
   "mimetype": "text/x-python",
   "name": "python",
   "nbconvert_exporter": "python",
   "pygments_lexer": "ipython3",
   "version": "3.7.6"
  }
 },
 "nbformat": 4,
 "nbformat_minor": 4
}
